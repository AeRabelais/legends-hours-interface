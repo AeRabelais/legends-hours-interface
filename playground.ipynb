{
 "cells": [
  {
   "cell_type": "code",
   "execution_count": 1,
   "metadata": {},
   "outputs": [],
   "source": [
    "import pandas as pd \n",
    "from legends_hours.file_management.input import *"
   ]
  },
  {
   "cell_type": "code",
   "execution_count": 2,
   "metadata": {},
   "outputs": [
    {
     "name": "stdout",
     "output_type": "stream",
     "text": [
      "[datetime.date(2023, 5, 28), datetime.date(2023, 6, 3)]\n"
     ]
    },
    {
     "name": "stderr",
     "output_type": "stream",
     "text": [
      "/Users/ae_rabelais/Documents/legends-hours-interface/legends_hours/file_management/input.py:62: SettingWithCopyWarning: \n",
      "A value is trying to be set on a copy of a slice from a DataFrame.\n",
      "Try using .loc[row_indexer,col_indexer] = value instead\n",
      "\n",
      "See the caveats in the documentation: https://pandas.pydata.org/pandas-docs/stable/user_guide/indexing.html#returning-a-view-versus-a-copy\n",
      "  filtered_time_df[\" Reg Hours\"] = filtered_time_df[\" Reg Hours\"].astype(int)\n"
     ]
    }
   ],
   "source": [
    "report_df = parse_time_file('/Users/ae_rabelais/Documents/legends-hours-interface/tests/files/5-28-2023-6-3-2023_River-Oaks_Bi-Weekly_punch-detail-report.csv')"
   ]
  },
  {
   "cell_type": "code",
   "execution_count": 8,
   "metadata": {},
   "outputs": [],
   "source": [
    "report = pd.read_csv('/Users/ae_rabelais/Documents/legends-hours-interface/tests/files/5-28-2023-6-3-2023_River-Oaks_Bi-Weekly_punch-detail-report.csv')"
   ]
  },
  {
   "cell_type": "code",
   "execution_count": 5,
   "metadata": {},
   "outputs": [],
   "source": [
    "csv_path = '/Users/ae_rabelais/Documents/legends-hours-interface/tests/files/5-28-2023-6-3-2023_River-Oaks_Bi-Weekly_punch-detail-report.csv'\n",
    "parsed_match = re.findall(r\"\\d{1,2}-\\d{1,2}-\\d{4}\", csv_path)\n"
   ]
  },
  {
   "attachments": {},
   "cell_type": "markdown",
   "metadata": {},
   "source": [
    "### Database Functionality"
   ]
  },
  {
   "cell_type": "code",
   "execution_count": 3,
   "metadata": {},
   "outputs": [],
   "source": [
    "from legends_hours.store.sqlite_db import *\n"
   ]
  },
  {
   "cell_type": "code",
   "execution_count": 13,
   "metadata": {},
   "outputs": [],
   "source": [
    "conn = create_connection() # WORKS"
   ]
  },
  {
   "cell_type": "code",
   "execution_count": 6,
   "metadata": {},
   "outputs": [],
   "source": [
    "add_report_item(conn, report_df) # WORKS"
   ]
  },
  {
   "cell_type": "code",
   "execution_count": 7,
   "metadata": {},
   "outputs": [],
   "source": [
    "comment_df = create_comment_item(\"575b7360-3687-40d9-a9a5-1632faafeb1a\", \"let christine do her thing.\") # WORKS\n",
    "add_comment_item(conn, comment_df) # WORKS"
   ]
  },
  {
   "cell_type": "code",
   "execution_count": 10,
   "metadata": {},
   "outputs": [],
   "source": [
    "# flags = get_flagged_employees(conn, date='2023-05-29')\n",
    "date = '2023-05-29'\n",
    "cursor = conn.cursor()\n",
    "\n",
    "# Find the week containing the given date\n",
    "result = cursor.execute(f'''\n",
    "    SELECT * FROM report\n",
    "    WHERE '{date}' BETWEEN startDate AND endDate\n",
    "    AND flag != 0\n",
    "    ORDER BY employee\n",
    "    ''')\n",
    "\n",
    "flagged_employees = result.fetchall()  # Retrieve the first matching report item\n",
    "\n",
    "cursor.close()\n",
    "conn.close()\n",
    "\n"
   ]
  },
  {
   "cell_type": "code",
   "execution_count": 11,
   "metadata": {},
   "outputs": [
    {
     "name": "stdout",
     "output_type": "stream",
     "text": [
      "[('52b8e364-350e-441c-940c-c7c2a37f6fd5', 'GREGORY', 'GRICE', 'Grice,Gregory', 38, '2023-05-28', '2023-06-03', 1)]\n"
     ]
    }
   ],
   "source": [
    "print(flagged_employees)"
   ]
  },
  {
   "cell_type": "code",
   "execution_count": 14,
   "metadata": {},
   "outputs": [
    {
     "data": {
      "text/plain": [
       "('b63d604d-48b6-4cb9-a55b-125d53255a21',\n",
       " 'let christine do her thing.',\n",
       " '575b7360-3687-40d9-a9a5-1632faafeb1a')"
      ]
     },
     "execution_count": 14,
     "metadata": {},
     "output_type": "execute_result"
    }
   ],
   "source": [
    "get_comment_by_id(conn, report_id='575b7360-3687-40d9-a9a5-1632faafeb1a') # WORKS"
   ]
  },
  {
   "cell_type": "code",
   "execution_count": 16,
   "metadata": {},
   "outputs": [],
   "source": [
    "out = get_comment_by_id(conn, report_id='not-real')"
   ]
  },
  {
   "cell_type": "code",
   "execution_count": 18,
   "metadata": {},
   "outputs": [
    {
     "ename": "OperationalError",
     "evalue": "near \"WHERE\": syntax error",
     "output_type": "error",
     "traceback": [
      "\u001b[0;31m---------------------------------------------------------------------------\u001b[0m",
      "\u001b[0;31mOperationalError\u001b[0m                          Traceback (most recent call last)",
      "Cell \u001b[0;32mIn[18], line 1\u001b[0m\n\u001b[0;32m----> 1\u001b[0m get_report_by_name_week(conn, date\u001b[39m=\u001b[39;49mdate, first_name\u001b[39m=\u001b[39;49m\u001b[39m'\u001b[39;49m\u001b[39mGREGORY\u001b[39;49m\u001b[39m'\u001b[39;49m, last_name\u001b[39m=\u001b[39;49m\u001b[39m'\u001b[39;49m\u001b[39mGRICE\u001b[39;49m\u001b[39m'\u001b[39;49m)\n",
      "File \u001b[0;32m~/Documents/legends-hours-interface/legends_hours/store/sqlite_db.py:81\u001b[0m, in \u001b[0;36mget_report_by_name_week\u001b[0;34m(conn, date, first_name, last_name)\u001b[0m\n\u001b[1;32m     77\u001b[0m def get_report_by_name_week(conn: sqlite3.Connection, date, first_name, last_name):\n\u001b[1;32m     79\u001b[0m     cursor = conn.cursor()\n\u001b[0;32m---> 81\u001b[0m     # Find the report item matching the date and employee name.\n\u001b[1;32m     82\u001b[0m     result = cursor.execute(f'''\n\u001b[1;32m     83\u001b[0m         SELECT * FROM report\n\u001b[1;32m     84\u001b[0m         WHERE ? BETWEEN startDate AND endDate \n\u001b[0;32m   (...)\u001b[0m\n\u001b[1;32m     87\u001b[0m         ORDER BY employee\n\u001b[1;32m     88\u001b[0m         ''', (date,))\n\u001b[1;32m     90\u001b[0m     report = result.fetchall()  # Retrieve the first matching report item\n",
      "\u001b[0;31mOperationalError\u001b[0m: near \"WHERE\": syntax error"
     ]
    }
   ],
   "source": [
    "get_report_by_name_week(conn, date=date, first_name='GREGORY', last_name='GRICE')"
   ]
  }
 ],
 "metadata": {
  "kernelspec": {
   "display_name": ".venv",
   "language": "python",
   "name": "python3"
  },
  "language_info": {
   "codemirror_mode": {
    "name": "ipython",
    "version": 3
   },
   "file_extension": ".py",
   "mimetype": "text/x-python",
   "name": "python",
   "nbconvert_exporter": "python",
   "pygments_lexer": "ipython3",
   "version": "3.11.3"
  },
  "orig_nbformat": 4
 },
 "nbformat": 4,
 "nbformat_minor": 2
}
